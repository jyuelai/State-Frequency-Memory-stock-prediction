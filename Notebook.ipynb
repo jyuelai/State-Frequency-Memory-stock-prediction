{
 "metadata": {
  "language_info": {
   "codemirror_mode": {
    "name": "ipython",
    "version": 3
   },
   "file_extension": ".py",
   "mimetype": "text/x-python",
   "name": "python",
   "nbconvert_exporter": "python",
   "pygments_lexer": "ipython3",
   "version": "2.7.18"
  },
  "orig_nbformat": 2,
  "kernelspec": {
   "name": "python2718jvsc74a57bd0a7c894bcbdc2ded5ee53bd9ecd5aeb7c5cc35193fc6adf6de47dd76ad6caaa49",
   "display_name": "Python 2.7.18 64-bit ('py27': conda)"
  }
 },
 "nbformat": 4,
 "nbformat_minor": 2,
 "cells": [
  {
   "cell_type": "code",
   "execution_count": 1,
   "metadata": {},
   "outputs": [
    {
     "output_type": "stream",
     "name": "stderr",
     "text": [
      "Using TensorFlow backend.\n"
     ]
    },
    {
     "output_type": "error",
     "ename": "ImportError",
     "evalue": "No module named tensorflow",
     "traceback": [
      "\u001b[1;31m\u001b[0m",
      "\u001b[1;31mImportError\u001b[0mTraceback (most recent call last)",
      "\u001b[1;32m<ipython-input-1-d66efc4b9c92>\u001b[0m in \u001b[0;36m<module>\u001b[1;34m()\u001b[0m\n\u001b[1;32m----> 1\u001b[1;33m \u001b[1;32mimport\u001b[0m \u001b[0mbuild\u001b[0m\u001b[1;33m\u001b[0m\u001b[0m\n\u001b[0m\u001b[0;32m      2\u001b[0m \u001b[1;32mimport\u001b[0m \u001b[0mtime\u001b[0m\u001b[1;33m\u001b[0m\u001b[0m\n\u001b[0;32m      3\u001b[0m \u001b[1;32mimport\u001b[0m \u001b[0mmatplotlib\u001b[0m\u001b[1;33m.\u001b[0m\u001b[0mpyplot\u001b[0m \u001b[1;32mas\u001b[0m \u001b[0mplt\u001b[0m\u001b[1;33m\u001b[0m\u001b[0m\n\u001b[0;32m      4\u001b[0m \u001b[1;32mimport\u001b[0m \u001b[0mnumpy\u001b[0m \u001b[1;32mas\u001b[0m \u001b[0mnp\u001b[0m\u001b[1;33m\u001b[0m\u001b[0m\n\u001b[0;32m      5\u001b[0m \u001b[1;32mimport\u001b[0m \u001b[0margparse\u001b[0m\u001b[1;33m\u001b[0m\u001b[0m\n",
      "\u001b[1;32md:\\project\\github\\State-Frequency-Memory-stock-prediction\\build.py\u001b[0m in \u001b[0;36m<module>\u001b[1;34m()\u001b[0m\n\u001b[0;32m      2\u001b[0m \u001b[1;32mimport\u001b[0m \u001b[0mwarnings\u001b[0m\u001b[1;33m\u001b[0m\u001b[0m\n\u001b[0;32m      3\u001b[0m \u001b[1;32mimport\u001b[0m \u001b[0mnumpy\u001b[0m \u001b[1;32mas\u001b[0m \u001b[0mnp\u001b[0m\u001b[1;33m\u001b[0m\u001b[0m\n\u001b[1;32m----> 4\u001b[1;33m \u001b[1;32mimport\u001b[0m \u001b[0mkeras\u001b[0m\u001b[1;33m\u001b[0m\u001b[0m\n\u001b[0m\u001b[0;32m      5\u001b[0m \u001b[1;32mfrom\u001b[0m \u001b[0mnumpy\u001b[0m \u001b[1;32mimport\u001b[0m \u001b[0mnewaxis\u001b[0m\u001b[1;33m\u001b[0m\u001b[0m\n\u001b[0;32m      6\u001b[0m \u001b[1;32mfrom\u001b[0m \u001b[0mkeras\u001b[0m\u001b[1;33m.\u001b[0m\u001b[0mlayers\u001b[0m\u001b[1;33m.\u001b[0m\u001b[0mcore\u001b[0m \u001b[1;32mimport\u001b[0m \u001b[0mDense\u001b[0m\u001b[1;33m,\u001b[0m \u001b[0mActivation\u001b[0m\u001b[1;33m,\u001b[0m \u001b[0mDropout\u001b[0m\u001b[1;33m\u001b[0m\u001b[0m\n",
      "\u001b[1;32mD:\\Softwares\\Tools\\anaconda\\envs\\py27\\lib\\site-packages\\keras\\__init__.py\u001b[0m in \u001b[0;36m<module>\u001b[1;34m()\u001b[0m\n\u001b[0;32m      1\u001b[0m \u001b[1;32mfrom\u001b[0m \u001b[0m__future__\u001b[0m \u001b[1;32mimport\u001b[0m \u001b[0mabsolute_import\u001b[0m\u001b[1;33m\u001b[0m\u001b[0m\n\u001b[1;32m----> 2\u001b[1;33m \u001b[1;32mfrom\u001b[0m \u001b[1;33m.\u001b[0m \u001b[1;32mimport\u001b[0m \u001b[0mbackend\u001b[0m\u001b[1;33m\u001b[0m\u001b[0m\n\u001b[0m\u001b[0;32m      3\u001b[0m \u001b[1;32mfrom\u001b[0m \u001b[1;33m.\u001b[0m \u001b[1;32mimport\u001b[0m \u001b[0mdatasets\u001b[0m\u001b[1;33m\u001b[0m\u001b[0m\n\u001b[0;32m      4\u001b[0m \u001b[1;32mfrom\u001b[0m \u001b[1;33m.\u001b[0m \u001b[1;32mimport\u001b[0m \u001b[0mengine\u001b[0m\u001b[1;33m\u001b[0m\u001b[0m\n\u001b[0;32m      5\u001b[0m \u001b[1;32mfrom\u001b[0m \u001b[1;33m.\u001b[0m \u001b[1;32mimport\u001b[0m \u001b[0mlayers\u001b[0m\u001b[1;33m\u001b[0m\u001b[0m\n",
      "\u001b[1;32mD:\\Softwares\\Tools\\anaconda\\envs\\py27\\lib\\site-packages\\keras\\backend\\__init__.py\u001b[0m in \u001b[0;36m<module>\u001b[1;34m()\u001b[0m\n\u001b[0;32m     62\u001b[0m \u001b[1;32melif\u001b[0m \u001b[0m_BACKEND\u001b[0m \u001b[1;33m==\u001b[0m \u001b[1;34m'tensorflow'\u001b[0m\u001b[1;33m:\u001b[0m\u001b[1;33m\u001b[0m\u001b[0m\n\u001b[0;32m     63\u001b[0m     \u001b[0msys\u001b[0m\u001b[1;33m.\u001b[0m\u001b[0mstderr\u001b[0m\u001b[1;33m.\u001b[0m\u001b[0mwrite\u001b[0m\u001b[1;33m(\u001b[0m\u001b[1;34m'Using TensorFlow backend.\\n'\u001b[0m\u001b[1;33m)\u001b[0m\u001b[1;33m\u001b[0m\u001b[0m\n\u001b[1;32m---> 64\u001b[1;33m     \u001b[1;32mfrom\u001b[0m \u001b[1;33m.\u001b[0m\u001b[0mtensorflow_backend\u001b[0m \u001b[1;32mimport\u001b[0m \u001b[1;33m*\u001b[0m\u001b[1;33m\u001b[0m\u001b[0m\n\u001b[0m\u001b[0;32m     65\u001b[0m \u001b[1;32melse\u001b[0m\u001b[1;33m:\u001b[0m\u001b[1;33m\u001b[0m\u001b[0m\n\u001b[0;32m     66\u001b[0m     \u001b[1;32mraise\u001b[0m \u001b[0mException\u001b[0m\u001b[1;33m(\u001b[0m\u001b[1;34m'Unknown backend: '\u001b[0m \u001b[1;33m+\u001b[0m \u001b[0mstr\u001b[0m\u001b[1;33m(\u001b[0m\u001b[0m_BACKEND\u001b[0m\u001b[1;33m)\u001b[0m\u001b[1;33m)\u001b[0m\u001b[1;33m\u001b[0m\u001b[0m\n",
      "\u001b[1;32mD:\\Softwares\\Tools\\anaconda\\envs\\py27\\lib\\site-packages\\keras\\backend\\tensorflow_backend.py\u001b[0m in \u001b[0;36m<module>\u001b[1;34m()\u001b[0m\n\u001b[1;32m----> 1\u001b[1;33m \u001b[1;32mimport\u001b[0m \u001b[0mtensorflow\u001b[0m \u001b[1;32mas\u001b[0m \u001b[0mtf\u001b[0m\u001b[1;33m\u001b[0m\u001b[0m\n\u001b[0m\u001b[0;32m      2\u001b[0m \u001b[1;32mfrom\u001b[0m \u001b[0mtensorflow\u001b[0m\u001b[1;33m.\u001b[0m\u001b[0mpython\u001b[0m\u001b[1;33m.\u001b[0m\u001b[0mtraining\u001b[0m \u001b[1;32mimport\u001b[0m \u001b[0mmoving_averages\u001b[0m\u001b[1;33m\u001b[0m\u001b[0m\n\u001b[0;32m      3\u001b[0m \u001b[1;32mtry\u001b[0m\u001b[1;33m:\u001b[0m\u001b[1;33m\u001b[0m\u001b[0m\n\u001b[0;32m      4\u001b[0m     \u001b[1;32mimport\u001b[0m \u001b[0mtensorflow\u001b[0m\u001b[1;33m.\u001b[0m\u001b[0mcontrib\u001b[0m\u001b[1;33m.\u001b[0m\u001b[0mctc\u001b[0m \u001b[1;32mas\u001b[0m \u001b[0mctc\u001b[0m\u001b[1;33m\u001b[0m\u001b[0m\n\u001b[0;32m      5\u001b[0m \u001b[1;32mexcept\u001b[0m \u001b[0mImportError\u001b[0m\u001b[1;33m:\u001b[0m\u001b[1;33m\u001b[0m\u001b[0m\n",
      "\u001b[1;31mImportError\u001b[0m: No module named tensorflow"
     ]
    }
   ],
   "source": [
    "import build\n",
    "import time\n",
    "import matplotlib.pyplot as plt\n",
    "import numpy as np\n",
    "import argparse\n",
    "import distutils.util"
   ]
  },
  {
   "cell_type": "code",
   "execution_count": 1,
   "metadata": {},
   "outputs": [
    {
     "output_type": "execute_result",
     "data": {
      "text/plain": [
       "'2.7.18 |Anaconda, Inc.| (default, Apr 23 2020, 17:26:54) [MSC v.1500 64 bit (AMD64)]'"
      ]
     },
     "metadata": {},
     "execution_count": 1
    }
   ],
   "source": [
    "import sys\n",
    "sys.version"
   ]
  },
  {
   "cell_type": "code",
   "execution_count": 8,
   "metadata": {},
   "outputs": [
    {
     "output_type": "error",
     "ename": "SyntaxError",
     "evalue": "invalid syntax (<ipython-input-8-ce8c0f463a52>, line 1)",
     "traceback": [
      "\u001b[1;36m  File \u001b[1;32m\"<ipython-input-8-ce8c0f463a52>\"\u001b[1;36m, line \u001b[1;32m1\u001b[0m\n\u001b[1;33m    pip install pytorch\u001b[0m\n\u001b[1;37m              ^\u001b[0m\n\u001b[1;31mSyntaxError\u001b[0m\u001b[1;31m:\u001b[0m invalid syntax\n"
     ]
    }
   ],
   "source": [
    "pip install pytorch"
   ]
  },
  {
   "cell_type": "code",
   "execution_count": 2,
   "metadata": {},
   "outputs": [
    {
     "output_type": "stream",
     "name": "stdout",
     "text": [
      "Requirement already satisfied: tensorflow in d:\\softwares\\tools\\anaconda\\lib\\site-packages (2.3.1)\nRequirement already satisfied: opt-einsum>=2.3.2 in d:\\softwares\\tools\\anaconda\\lib\\site-packages (from tensorflow) (3.3.0)\nRequirement already satisfied: wheel>=0.26 in d:\\softwares\\tools\\anaconda\\lib\\site-packages (from tensorflow) (0.34.2)\nRequirement already satisfied: gast==0.3.3 in d:\\softwares\\tools\\anaconda\\lib\\site-packages (from tensorflow) (0.3.3)\nRequirement already satisfied: tensorboard<3,>=2.3.0 in d:\\softwares\\tools\\anaconda\\lib\\site-packages (from tensorflow) (2.3.0)\nRequirement already satisfied: grpcio>=1.8.6 in d:\\softwares\\tools\\anaconda\\lib\\site-packages (from tensorflow) (1.33.1)\nRequirement already satisfied: wrapt>=1.11.1 in d:\\softwares\\tools\\anaconda\\lib\\site-packages (from tensorflow) (1.11.2)\nRequirement already satisfied: h5py<2.11.0,>=2.10.0 in d:\\softwares\\tools\\anaconda\\lib\\site-packages (from tensorflow) (2.10.0)\nRequirement already satisfied: six>=1.12.0 in d:\\softwares\\tools\\anaconda\\lib\\site-packages (from tensorflow) (1.15.0)\nRequirement already satisfied: keras-preprocessing<1.2,>=1.1.1 in d:\\softwares\\tools\\anaconda\\lib\\site-packages (from tensorflow) (1.1.2)\nRequirement already satisfied: numpy<1.19.0,>=1.16.0 in d:\\softwares\\tools\\anaconda\\lib\\site-packages (from tensorflow) (1.18.5)\nRequirement already satisfied: protobuf>=3.9.2 in d:\\softwares\\tools\\anaconda\\lib\\site-packages (from tensorflow) (3.13.0)\nRequirement already satisfied: termcolor>=1.1.0 in d:\\softwares\\tools\\anaconda\\lib\\site-packages (from tensorflow) (1.1.0)\nRequirement already satisfied: absl-py>=0.7.0 in d:\\softwares\\tools\\anaconda\\lib\\site-packages (from tensorflow) (0.10.0)\nRequirement already satisfied: google-pasta>=0.1.8 in d:\\softwares\\tools\\anaconda\\lib\\site-packages (from tensorflow) (0.2.0)\nRequirement already satisfied: tensorflow-estimator<2.4.0,>=2.3.0 in d:\\softwares\\tools\\anaconda\\lib\\site-packages (from tensorflow) (2.3.0)\nRequirement already satisfied: astunparse==1.6.3 in d:\\softwares\\tools\\anaconda\\lib\\site-packages (from tensorflow) (1.6.3)\nRequirement already satisfied: google-auth-oauthlib<0.5,>=0.4.1 in d:\\softwares\\tools\\anaconda\\lib\\site-packages (from tensorboard<3,>=2.3.0->tensorflow) (0.4.1)\nRequirement already satisfied: setuptools>=41.0.0 in d:\\softwares\\tools\\anaconda\\lib\\site-packages (from tensorboard<3,>=2.3.0->tensorflow) (49.2.0.post20200714)\nRequirement already satisfied: google-auth<2,>=1.6.3 in d:\\softwares\\tools\\anaconda\\lib\\site-packages (from tensorboard<3,>=2.3.0->tensorflow) (1.22.1)\nRequirement already satisfied: markdown>=2.6.8 in d:\\softwares\\tools\\anaconda\\lib\\site-packages (from tensorboard<3,>=2.3.0->tensorflow) (3.3.2)\nRequirement already satisfied: tensorboard-plugin-wit>=1.6.0 in d:\\softwares\\tools\\anaconda\\lib\\site-packages (from tensorboard<3,>=2.3.0->tensorflow) (1.7.0)\nRequirement already satisfied: werkzeug>=0.11.15 in d:\\softwares\\tools\\anaconda\\lib\\site-packages (from tensorboard<3,>=2.3.0->tensorflow) (1.0.1)\nCollecting requests<3,>=2.21.0\n  Using cached requests-2.25.1-py2.py3-none-any.whl (61 kB)\nRequirement already satisfied: requests-oauthlib>=0.7.0 in d:\\softwares\\tools\\anaconda\\lib\\site-packages (from google-auth-oauthlib<0.5,>=0.4.1->tensorboard<3,>=2.3.0->tensorflow) (1.3.0)\nRequirement already satisfied: rsa<5,>=3.1.4; python_version >= \"3.5\" in d:\\softwares\\tools\\anaconda\\lib\\site-packages (from google-auth<2,>=1.6.3->tensorboard<3,>=2.3.0->tensorflow) (4.6)\nRequirement already satisfied: cachetools<5.0,>=2.0.0 in d:\\softwares\\tools\\anaconda\\lib\\site-packages (from google-auth<2,>=1.6.3->tensorboard<3,>=2.3.0->tensorflow) (4.1.1)\nRequirement already satisfied: pyasn1-modules>=0.2.1 in d:\\softwares\\tools\\anaconda\\lib\\site-packages (from google-auth<2,>=1.6.3->tensorboard<3,>=2.3.0->tensorflow) (0.2.8)\nRequirement already satisfied: certifi>=2017.4.17 in d:\\softwares\\tools\\anaconda\\lib\\site-packages (from requests<3,>=2.21.0->tensorboard<3,>=2.3.0->tensorflow) (2020.6.20)\nRequirement already satisfied: chardet<5,>=3.0.2 in d:\\softwares\\tools\\anaconda\\lib\\site-packages (from requests<3,>=2.21.0->tensorboard<3,>=2.3.0->tensorflow) (3.0.4)\nRequirement already satisfied: urllib3<1.27,>=1.21.1 in d:\\softwares\\tools\\anaconda\\lib\\site-packages (from requests<3,>=2.21.0->tensorboard<3,>=2.3.0->tensorflow) (1.22)\nRequirement already satisfied: idna<3,>=2.5 in d:\\softwares\\tools\\anaconda\\lib\\site-packages (from requests<3,>=2.21.0->tensorboard<3,>=2.3.0->tensorflow) (2.6)\nRequirement already satisfied: oauthlib>=3.0.0 in d:\\softwares\\tools\\anaconda\\lib\\site-packages (from requests-oauthlib>=0.7.0->google-auth-oauthlib<0.5,>=0.4.1->tensorboard<3,>=2.3.0->tensorflow) (3.1.0)\nRequirement already satisfied: pyasn1>=0.1.3 in d:\\softwares\\tools\\anaconda\\lib\\site-packages (from rsa<5,>=3.1.4; python_version >= \"3.5\"->google-auth<2,>=1.6.3->tensorboard<3,>=2.3.0->tensorflow) (0.4.8)\nInstalling collected packages: requests\n  Attempting uninstall: requests\n    Found existing installation: requests 2.18.4\n    Uninstalling requests-2.18.4:\n      Successfully uninstalled requests-2.18.4\nSuccessfully installed requests-2.25.1\n"
     ]
    }
   ],
   "source": [
    "!pip install tensorflow"
   ]
  },
  {
   "cell_type": "code",
   "execution_count": null,
   "metadata": {},
   "outputs": [],
   "source": []
  }
 ]
}